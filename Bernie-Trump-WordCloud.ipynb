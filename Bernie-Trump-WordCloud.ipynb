{
    "nbformat": 4, 
    "metadata": {
        "language_info": {
            "pygments_lexer": "ipython3", 
            "file_extension": ".py", 
            "mimetype": "text/x-python", 
            "nbconvert_exporter": "python", 
            "version": "3.5.2", 
            "codemirror_mode": {
                "name": "ipython", 
                "version": 3
            }, 
            "name": "python"
        }, 
        "kernelspec": {
            "name": "python3", 
            "language": "python", 
            "display_name": "Python 3.5 (Experimental) with Spark 1.6"
        }
    }, 
    "cells": [
        {
            "source": "# US Constitution WordClouds", 
            "metadata": {
                "collapsed": true
            }, 
            "cell_type": "markdown"
        }, 
        {
            "source": "## Generating a square wordcloud from the US constitution using default arguments.", 
            "metadata": {}, 
            "cell_type": "markdown"
        }, 
        {
            "source": "### WordCloud is currently unsupported on IBM Data Science Experience", 
            "metadata": {}, 
            "cell_type": "markdown"
        }, 
        {
            "outputs": [
                {
                    "evalue": "No module named 'wordcloud'", 
                    "ename": "ImportError", 
                    "traceback": [
                        "\u001b[1;31m\u001b[0m", 
                        "\u001b[1;31mImportError\u001b[0mTraceback (most recent call last)", 
                        "\u001b[1;32m<ipython-input-1-eb0b329109e2>\u001b[0m in \u001b[0;36m<module>\u001b[1;34m()\u001b[0m\n\u001b[0;32m      7\u001b[0m \u001b[1;33m\u001b[0m\u001b[0m\n\u001b[0;32m      8\u001b[0m \u001b[1;32mfrom\u001b[0m \u001b[0mos\u001b[0m \u001b[1;32mimport\u001b[0m \u001b[0mpath\u001b[0m\u001b[1;33m\u001b[0m\u001b[0m\n\u001b[1;32m----> 9\u001b[1;33m \u001b[1;32mfrom\u001b[0m \u001b[0mwordcloud\u001b[0m \u001b[1;32mimport\u001b[0m \u001b[0mWordCloud\u001b[0m\u001b[1;33m\u001b[0m\u001b[0m\n\u001b[0m\u001b[0;32m     10\u001b[0m \u001b[1;33m\u001b[0m\u001b[0m\n\u001b[0;32m     11\u001b[0m \u001b[0md\u001b[0m \u001b[1;33m=\u001b[0m \u001b[0mpath\u001b[0m\u001b[1;33m.\u001b[0m\u001b[0mdirname\u001b[0m\u001b[1;33m(\u001b[0m\u001b[0m__file__\u001b[0m\u001b[1;33m)\u001b[0m\u001b[1;33m\u001b[0m\u001b[0m\n", 
                        "\u001b[1;31mImportError\u001b[0m: No module named 'wordcloud'"
                    ], 
                    "output_type": "error"
                }
            ], 
            "source": "from os import path\nfrom wordcloud import WordCloud\n\nd = path.dirname(__file__)\n\n# Read the whole text.\ntext = open(path.join(d, 'constitution.txt')).read()\n\n# Generate a word cloud image\nwordcloud = WordCloud().generate(text)\n\n# Display the generated image:\n# the matplotlib way:\nimport matplotlib.pyplot as plt\nplt.imshow(wordcloud)\nplt.axis(\"off\")\n\n# lower max_font_size\nwordcloud = WordCloud(max_font_size=40).generate(text)\nplt.figure()\nplt.imshow(wordcloud)\nplt.axis(\"off\")\nplt.show()\n\n# The pil way (if you don't have matplotlib)\n#image = wordcloud.to_image()\n#image.show()", 
            "execution_count": 1, 
            "cell_type": "code", 
            "metadata": {
                "collapsed": false
            }
        }, 
        {
            "outputs": [], 
            "source": "", 
            "execution_count": null, 
            "cell_type": "code", 
            "metadata": {
                "collapsed": true
            }
        }
    ], 
    "nbformat_minor": 0
}